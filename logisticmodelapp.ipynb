{
 "cells": [
  {
   "cell_type": "code",
   "execution_count": 8,
   "id": "a21cfbd7",
   "metadata": {},
   "outputs": [],
   "source": [
    "# -*- coding: utf-8 -*-\n",
    "import streamlit as st\n",
    "import joblib\n",
    "import numpy as np"
   ]
  },
  {
   "cell_type": "code",
   "execution_count": 9,
   "id": "e1f28c28",
   "metadata": {},
   "outputs": [
    {
     "data": {
      "text/plain": [
       "DeltaGenerator()"
      ]
     },
     "execution_count": 9,
     "metadata": {},
     "output_type": "execute_result"
    }
   ],
   "source": [
    "# Load model\n",
    "model = joblib.load('logisticmodel.pkl')\n",
    "st.title(\"Titanic Survival Prediction\")"
   ]
  },
  {
   "cell_type": "code",
   "execution_count": 10,
   "id": "a594e000",
   "metadata": {},
   "outputs": [],
   "source": [
    "# User Inputs\n",
    "pclass = st.selectbox(\"Passenger Class\", [1, 2, 3])\n",
    "sex = st.selectbox(\"Sex\", [\"male\", \"female\"])\n",
    "age = st.slider(\"Age\", 1, 80, 25)\n",
    "sibsp = st.number_input(\"Siblings/Spouses Aboard\", 0, 8, 0)\n",
    "parch = st.number_input(\"Parents/Children Aboard\", 0, 6, 0)\n",
    "fare = st.number_input(\"Fare\", 0.0, 600.0, 32.0)\n",
    "embarked = st.selectbox(\"Port of Embarkation\", [\"C\", \"Q\", \"S\"])"
   ]
  },
  {
   "cell_type": "code",
   "execution_count": 11,
   "id": "a9810f09",
   "metadata": {},
   "outputs": [],
   "source": [
    "# Encode inputs\n",
    "sex = 1 if sex == \"male\" else 0\n",
    "embarked_map = {\"C\": 0, \"Q\": 1, \"S\": 2}\n",
    "embarked_val = embarked_map[embarked]"
   ]
  },
  {
   "cell_type": "code",
   "execution_count": 12,
   "id": "7506c236",
   "metadata": {},
   "outputs": [],
   "source": [
    "# Prepare input\n",
    "input_data = np.array([[pclass, age, sibsp, parch, fare, sex, embarked_val]])"
   ]
  },
  {
   "cell_type": "code",
   "execution_count": 13,
   "id": "fd4a2e9b",
   "metadata": {},
   "outputs": [],
   "source": [
    "# Predict\n",
    "if st.button(\"Predict\"):\n",
    "    prediction = model.predict(input_data)\n",
    "    result = \"Survived\" if prediction[0] == 1 else \"Did not survive\"\n",
    "    st.subheader(result)"
   ]
  },
  {
   "cell_type": "code",
   "execution_count": 14,
   "id": "2a144fec",
   "metadata": {},
   "outputs": [
    {
     "data": {
      "text/plain": [
       "['logisticmodelapp.py']"
      ]
     },
     "execution_count": 14,
     "metadata": {},
     "output_type": "execute_result"
    }
   ],
   "source": [
    "joblib.dump(model, \"logisticmodelapp.py\")"
   ]
  },
  {
   "cell_type": "code",
   "execution_count": null,
   "id": "74297e5c",
   "metadata": {},
   "outputs": [],
   "source": []
  }
 ],
 "metadata": {
  "kernelspec": {
   "display_name": "base",
   "language": "python",
   "name": "python3"
  },
  "language_info": {
   "codemirror_mode": {
    "name": "ipython",
    "version": 3
   },
   "file_extension": ".py",
   "mimetype": "text/x-python",
   "name": "python",
   "nbconvert_exporter": "python",
   "pygments_lexer": "ipython3",
   "version": "3.11.7"
  }
 },
 "nbformat": 4,
 "nbformat_minor": 5
}
